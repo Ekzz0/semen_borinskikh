{
 "cells": [
  {
   "cell_type": "code",
   "execution_count": 2,
   "id": "7eeb6146-b305-418a-bad6-db56f160712f",
   "metadata": {},
   "outputs": [],
   "source": [
    "import numpy as np\n",
    "import matplotlib.pyplot as plt\n",
    "from tensorflow.keras.datasets import mnist\n",
    "from tensorflow import keras\n",
    "from tensorflow.keras.layers import Dense, Flatten, Reshape, Input"
   ]
  },
  {
   "cell_type": "code",
   "execution_count": 3,
   "id": "a9be3fbb-9ff7-448c-90e2-04f84e2902a8",
   "metadata": {},
   "outputs": [],
   "source": [
    "(x_train, y_train), (x_test, y_test) = mnist.load_data()\n",
    "\n",
    "# стандартизация входных данных\n",
    "x_train = x_train / 255\n",
    "x_test = x_test / 255\n",
    "\n",
    "x_train = np.reshape(x_train, (len(x_train), 28, 28, 1))\n",
    "x_test  = np.reshape(x_test,  (len(x_test),  28, 28, 1))\n"
   ]
  },
  {
   "cell_type": "code",
   "execution_count": 4,
   "id": "4c2d14c5-8bc1-4548-9bcf-7084d8e76624",
   "metadata": {},
   "outputs": [],
   "source": [
    "input_img = Input(shape=(28, 28, 1))\n",
    "x = Flatten()(input_img)\n",
    "x = Dense(128, activation='relu')(x)\n",
    "x = Dense(64, activation='relu')(x)\n",
    "encoded = Dense(2, activation='linear')(x) # вектор скрытого состояния из 2х нейронов\n",
    "\n",
    "input_enc = Input(shape=(2,))\n",
    "d = Dense(64, activation='relu')(input_enc)\n",
    "d = Dense(28*28, activation='sigmoid')(d)\n",
    "decoded = Reshape((28, 28, 1))(d)"
   ]
  },
  {
   "cell_type": "code",
   "execution_count": 5,
   "id": "ea64cf69-b912-487c-b521-1858547b4dfd",
   "metadata": {},
   "outputs": [],
   "source": [
    "encoder = keras.Model(input_img, encoded, name=\"encoder\") # модель кодера\n",
    "decoder = keras.Model(input_enc, decoded, name=\"decoder\") # модель декодера\n",
    "autoencoder = keras.Model(input_img, decoder(encoder(input_img)), name=\"autoencoder\") # при обучении у нас в конце автоматически \n",
    "# получится обученный кодер и декодер \n",
    "autoencoder.compile(optimizer='adam', loss='mean_squared_error')"
   ]
  },
  {
   "cell_type": "code",
   "execution_count": 6,
   "id": "34444af5-7b77-4cc0-8ef2-f7f60b45875a",
   "metadata": {},
   "outputs": [
    {
     "name": "stdout",
     "output_type": "stream",
     "text": [
      "Epoch 1/10\n",
      "938/938 [==============================] - 4s 2ms/step - loss: 0.0600\n",
      "Epoch 2/10\n",
      "938/938 [==============================] - 2s 2ms/step - loss: 0.0490\n",
      "Epoch 3/10\n",
      "938/938 [==============================] - 2s 2ms/step - loss: 0.0463\n",
      "Epoch 4/10\n",
      "938/938 [==============================] - 2s 2ms/step - loss: 0.0452\n",
      "Epoch 5/10\n",
      "938/938 [==============================] - 2s 2ms/step - loss: 0.0444\n",
      "Epoch 6/10\n",
      "938/938 [==============================] - 2s 3ms/step - loss: 0.0438\n",
      "Epoch 7/10\n",
      "938/938 [==============================] - 2s 3ms/step - loss: 0.0434\n",
      "Epoch 8/10\n",
      "938/938 [==============================] - 3s 3ms/step - loss: 0.0429\n",
      "Epoch 9/10\n",
      "938/938 [==============================] - 2s 3ms/step - loss: 0.0426\n",
      "Epoch 10/10\n",
      "938/938 [==============================] - 2s 3ms/step - loss: 0.0423\n"
     ]
    },
    {
     "data": {
      "text/plain": [
       "<keras.callbacks.History at 0x1a20bce8310>"
      ]
     },
     "execution_count": 6,
     "metadata": {},
     "output_type": "execute_result"
    }
   ],
   "source": [
    "autoencoder.fit(x_train, x_train,\n",
    "                epochs=10,\n",
    "                batch_size=64,\n",
    "                shuffle=True)"
   ]
  },
  {
   "cell_type": "code",
   "execution_count": 7,
   "id": "ed60036a-697f-46d3-991b-fc5ff5e5601d",
   "metadata": {},
   "outputs": [
    {
     "data": {
      "image/png": "[encoded data removed]",
      "text/plain": [
       "<Figure size 432x288 with 1 Axes>"
      ]
     },
     "metadata": {
      "needs_background": "light"
     },
     "output_type": "display_data"
    }
   ],
   "source": [
    "h = encoder.predict(x_test) # распределение точек векторов скрытово состояния для тестового набора изображений\n",
    "# характерная картина формирования модельной области отображения входного сигнала в пространство скрытого состояния\n",
    "a = plt.scatter(h[:, 0], h[:, 1])"
   ]
  },
  {
   "cell_type": "code",
   "execution_count": 10,
   "id": "3870aed6-1f29-490c-81b5-ad49df4725a8",
   "metadata": {},
   "outputs": [
    {
     "data": {
      "text/plain": [
       "<matplotlib.image.AxesImage at 0x1a20e9c5520>"
      ]
     },
     "execution_count": 10,
     "metadata": {},
     "output_type": "execute_result"
    },
    {
     "data": {
      "image/png": "[encoded data removed]",
      "text/plain": [
       "<Figure size 432x288 with 1 Axes>"
      ]
     },
     "metadata": {
      "needs_background": "light"
     },
     "output_type": "display_data"
    }
   ],
   "source": [
    "img = decoder.predict(np.expand_dims([10, 10], axis=0))\n",
    "plt.imshow(img.squeeze(), cmap='gray')"
   ]
  },
  {
   "cell_type": "code",
   "execution_count": null,
   "id": "90c515ff-3b8f-4c5a-83a9-4b5a8244ec06",
   "metadata": {},
   "outputs": [],
   "source": []
  }
 ],
 "metadata": {
  "kernelspec": {
   "display_name": "Python 3 (ipykernel)",
   "language": "python",
   "name": "python3"
  },
  "language_info": {
   "codemirror_mode": {
    "name": "ipython",
    "version": 3
   },
   "file_extension": ".py",
   "mimetype": "text/x-python",
   "name": "python",
   "nbconvert_exporter": "python",
   "pygments_lexer": "ipython3",
   "version": "3.9.7"
  }
 },
 "nbformat": 4,
 "nbformat_minor": 5
}
