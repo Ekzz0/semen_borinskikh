{
 "cells": [
  {
   "cell_type": "code",
   "execution_count": 24,
   "id": "1174f9ff-3690-4d04-b10f-7d435386d974",
   "metadata": {},
   "outputs": [],
   "source": [
    "import os\n",
    "os.environ['TF_CPP_MIN_LOG_LEVEL'] = '2'\n",
    "\n",
    "import numpy as np\n",
    "import re\n",
    "\n",
    "from tensorflow.keras.layers import Dense, LSTM, Input, Dropout, Embedding\n",
    "from tensorflow.keras.models import Sequential\n",
    "from tensorflow.keras.optimizers import Adam\n",
    "from tensorflow.keras.preprocessing.text import Tokenizer, text_to_word_sequence\n",
    "from tensorflow.keras.preprocessing.sequence import pad_sequences\n",
    "\n",
    "import matplotlib.pyplot as plt"
   ]
  },
  {
   "cell_type": "code",
   "execution_count": 4,
   "id": "7fe56aa2-0b8e-41c6-ab0b-ef3046436d3f",
   "metadata": {},
   "outputs": [],
   "source": [
    "with open('train_data_true.txt', 'r', encoding='utf-8') as f:\n",
    "    texts_true = f.readlines()\n",
    "    texts_true[0] = texts_true[0].replace('\\ufeff', '') #убираем первый невидимый символ\n",
    "\n",
    "with open('train_data_false.txt', 'r', encoding='utf-8') as f:\n",
    "    texts_false = f.readlines()\n",
    "    texts_false[0] = texts_false[0].replace('\\ufeff', '') #убираем первый невидимый символ"
   ]
  },
  {
   "cell_type": "code",
   "execution_count": 6,
   "id": "c0970030-80cb-474d-b0e8-0f506033d886",
   "metadata": {},
   "outputs": [
    {
     "name": "stdout",
     "output_type": "stream",
     "text": [
      "84 88 172\n"
     ]
    }
   ],
   "source": [
    "texts = texts_true + texts_false # соединяем их в единую коллекцию\n",
    "count_true = len(texts_true) # количество положительных\n",
    "count_false = len(texts_false) # количество отрицательных\n",
    "total_lines = count_true + count_false # общее количество\n",
    "print(count_true, count_false, total_lines)"
   ]
  },
  {
   "cell_type": "code",
   "execution_count": 10,
   "id": "63e97ead-c038-4951-be09-b0935217a3e9",
   "metadata": {},
   "outputs": [],
   "source": [
    "maxWordsCount = 1000\n",
    "# разбиваем на отдельные слова\n",
    "tokenizer = Tokenizer(num_words=maxWordsCount, filters='!–\"—#$%&amp;()*+,-./:;<=>?@[\\\\]^_`{|}~\\t\\n\\r«»', lower=True, split=' ', char_level=False) \n",
    "tokenizer.fit_on_texts(texts) # тут всегда нужно передавать коллекцию строк. texst - уже коллекция\n"
   ]
  },
  {
   "cell_type": "code",
   "execution_count": 11,
   "id": "ef559318-f032-4da1-8e62-0e7b372c7b5c",
   "metadata": {},
   "outputs": [
    {
     "name": "stdout",
     "output_type": "stream",
     "text": [
      "[('думайте', 1), ('позитивно', 4), ('и', 50), ('верьте', 3), ('в', 38), ('свою', 4), ('способность', 1), ('достигать', 1), ('отличных', 1), ('результатов', 1)]\n",
      "Думайте позитивно и верьте в свою способность достигать отличных результатов. \n",
      "\n"
     ]
    }
   ],
   "source": [
    "dist = list(tokenizer.word_counts.items())\n",
    "print(dist[:10]) # 1е 10 слов и их частота встречаемости\n",
    "print(texts[0][:100])"
   ]
  },
  {
   "cell_type": "code",
   "execution_count": 14,
   "id": "cac8ed7b-80f3-4665-aa2b-609d11e644fc",
   "metadata": {},
   "outputs": [
    {
     "name": "stdout",
     "output_type": "stream",
     "text": [
      "[[197  54   2 ... 199 200 201]\n",
      " [  0   4 202 ... 205   3  67]\n",
      " [206   3  67 ...   4 208 209]\n",
      " ...\n",
      " [  0  20  62 ...  53 850 851]\n",
      " [  0   0  43 ...  33   1 853]\n",
      " [  0   0   0 ...  70  65 194]]\n"
     ]
    }
   ],
   "source": [
    "max_text_len = 10\n",
    "data = tokenizer.texts_to_sequences(texts) # преобразуем текст в последовательность чисел\n",
    "data_pad = pad_sequences(data, maxlen=max_text_len) # ограничивает длиной max_text_len , а недостаточные заполняем нулями начиная с начала\n",
    "print(data_pad)"
   ]
  },
  {
   "cell_type": "code",
   "execution_count": 16,
   "id": "780e1e8f-322b-46d9-a8d3-6daeaf7c4937",
   "metadata": {},
   "outputs": [],
   "source": [
    "#print( list(tokenizer.word_index.items()) )"
   ]
  },
  {
   "cell_type": "code",
   "execution_count": 18,
   "id": "8ad33edd-aa33-4816-b673-4aef7ccbdc33",
   "metadata": {},
   "outputs": [
    {
     "name": "stdout",
     "output_type": "stream",
     "text": [
      "(172, 10) (172, 2)\n"
     ]
    }
   ],
   "source": [
    "\n",
    "X = data_pad \n",
    "Y = np.array([[1, 0]]*count_true + [[0, 1]]*count_false) # дублирует вектор count_true и count_false раз\n",
    "print(X.shape, Y.shape)\n",
    "# тут обучающая выборка полностью сформирована"
   ]
  },
  {
   "cell_type": "code",
   "execution_count": 19,
   "id": "6bec189b-5ff5-43a7-b2e7-1e8fc7a2278a",
   "metadata": {},
   "outputs": [],
   "source": [
    "# перемешивание всех наблюдений \n",
    "indeces = np.random.choice(X.shape[0], size=X.shape[0], replace=False)\n",
    "X = X[indeces]\n",
    "Y = Y[indeces]\n"
   ]
  },
  {
   "cell_type": "code",
   "execution_count": 32,
   "id": "b8b30a7b-642c-4786-a4cf-0ac9ec47eb7c",
   "metadata": {},
   "outputs": [
    {
     "name": "stdout",
     "output_type": "stream",
     "text": [
      "Model: \"sequential_5\"\n",
      "_________________________________________________________________\n",
      " Layer (type)                Output Shape              Param #   \n",
      "=================================================================\n",
      " embedding_5 (Embedding)     (None, 10, 128)           128000    \n",
      "                                                                 \n",
      " lstm_10 (LSTM)              (None, 10, 128)           131584    \n",
      "                                                                 \n",
      " lstm_11 (LSTM)              (None, 64)                49408     \n",
      "                                                                 \n",
      " dense_5 (Dense)             (None, 2)                 130       \n",
      "                                                                 \n",
      "=================================================================\n",
      "Total params: 309,122\n",
      "Trainable params: 309,122\n",
      "Non-trainable params: 0\n",
      "_________________________________________________________________\n"
     ]
    }
   ],
   "source": [
    "model = Sequential()\n",
    "model.add(Embedding(maxWordsCount, 128, input_length = max_text_len))\n",
    "model.add(LSTM(128, return_sequences=True))\n",
    "model.add(LSTM(64))\n",
    "model.add(Dense(2, activation='softmax'))\n",
    "model.summary()\n",
    "\n",
    "model.compile(loss='categorical_crossentropy', metrics=['accuracy'], optimizer=Adam(0.0001))"
   ]
  },
  {
   "cell_type": "code",
   "execution_count": 33,
   "id": "e663f42c-f26c-4afa-a98c-1230595fc711",
   "metadata": {},
   "outputs": [
    {
     "name": "stdout",
     "output_type": "stream",
     "text": [
      "Epoch 1/20\n",
      "5/5 [==============================] - 3s 166ms/step - loss: 0.6935 - accuracy: 0.4453 - val_loss: 0.6924 - val_accuracy: 0.5143\n",
      "Epoch 2/20\n",
      "5/5 [==============================] - 0s 16ms/step - loss: 0.6910 - accuracy: 0.5766 - val_loss: 0.6920 - val_accuracy: 0.4286\n",
      "Epoch 3/20\n",
      "5/5 [==============================] - 0s 16ms/step - loss: 0.6883 - accuracy: 0.5547 - val_loss: 0.6914 - val_accuracy: 0.4286\n",
      "Epoch 4/20\n",
      "5/5 [==============================] - 0s 16ms/step - loss: 0.6859 - accuracy: 0.5474 - val_loss: 0.6907 - val_accuracy: 0.4000\n",
      "Epoch 5/20\n",
      "5/5 [==============================] - 0s 16ms/step - loss: 0.6833 - accuracy: 0.5474 - val_loss: 0.6899 - val_accuracy: 0.4000\n",
      "Epoch 6/20\n",
      "5/5 [==============================] - 0s 16ms/step - loss: 0.6800 - accuracy: 0.5474 - val_loss: 0.6888 - val_accuracy: 0.4000\n",
      "Epoch 7/20\n",
      "5/5 [==============================] - 0s 16ms/step - loss: 0.6761 - accuracy: 0.5474 - val_loss: 0.6874 - val_accuracy: 0.4000\n",
      "Epoch 8/20\n",
      "5/5 [==============================] - 0s 14ms/step - loss: 0.6716 - accuracy: 0.5474 - val_loss: 0.6854 - val_accuracy: 0.4000\n",
      "Epoch 9/20\n",
      "5/5 [==============================] - 0s 16ms/step - loss: 0.6656 - accuracy: 0.5547 - val_loss: 0.6827 - val_accuracy: 0.4286\n",
      "Epoch 10/20\n",
      "5/5 [==============================] - 0s 16ms/step - loss: 0.6579 - accuracy: 0.5693 - val_loss: 0.6793 - val_accuracy: 0.4286\n",
      "Epoch 11/20\n",
      "5/5 [==============================] - 0s 18ms/step - loss: 0.6482 - accuracy: 0.5766 - val_loss: 0.6747 - val_accuracy: 0.4286\n",
      "Epoch 12/20\n",
      "5/5 [==============================] - 0s 17ms/step - loss: 0.6362 - accuracy: 0.5912 - val_loss: 0.6685 - val_accuracy: 0.4286\n",
      "Epoch 13/20\n",
      "5/5 [==============================] - 0s 17ms/step - loss: 0.6211 - accuracy: 0.6350 - val_loss: 0.6594 - val_accuracy: 0.4571\n",
      "Epoch 14/20\n",
      "5/5 [==============================] - 0s 14ms/step - loss: 0.6034 - accuracy: 0.7007 - val_loss: 0.6469 - val_accuracy: 0.5714\n",
      "Epoch 15/20\n",
      "5/5 [==============================] - 0s 16ms/step - loss: 0.5832 - accuracy: 0.7372 - val_loss: 0.6316 - val_accuracy: 0.6571\n",
      "Epoch 16/20\n",
      "5/5 [==============================] - 0s 17ms/step - loss: 0.5629 - accuracy: 0.7956 - val_loss: 0.6124 - val_accuracy: 0.8000\n",
      "Epoch 17/20\n",
      "5/5 [==============================] - 0s 17ms/step - loss: 0.5460 - accuracy: 0.8029 - val_loss: 0.5925 - val_accuracy: 0.8286\n",
      "Epoch 18/20\n",
      "5/5 [==============================] - 0s 16ms/step - loss: 0.5281 - accuracy: 0.8175 - val_loss: 0.5760 - val_accuracy: 0.8286\n",
      "Epoch 19/20\n",
      "5/5 [==============================] - 0s 14ms/step - loss: 0.5113 - accuracy: 0.8321 - val_loss: 0.5572 - val_accuracy: 0.8286\n",
      "Epoch 20/20\n",
      "5/5 [==============================] - 0s 15ms/step - loss: 0.4937 - accuracy: 0.8686 - val_loss: 0.5376 - val_accuracy: 0.8571\n"
     ]
    },
    {
     "data": {
      "image/png": "[encoded data removed]",
      "text/plain": [
       "<Figure size 432x288 with 1 Axes>"
      ]
     },
     "metadata": {
      "needs_background": "light"
     },
     "output_type": "display_data"
    }
   ],
   "source": [
    "his = model.fit(X, Y, batch_size=32, epochs=20, validation_split=0.2)\n",
    "\n",
    "plt.plot(his.history['loss']) # 2й history - словарь, loss - критерий качества\n",
    "#, вычисленный для каждой эпохи\n",
    "plt.plot(his.history['val_loss'])\n",
    "plt.grid(True)\n",
    "plt.show()"
   ]
  },
  {
   "cell_type": "code",
   "execution_count": 35,
   "id": "1bb00c79-2630-4414-a33d-197da4748a43",
   "metadata": {},
   "outputs": [],
   "source": [
    "reverse_word_map = dict(map(reversed, tokenizer.word_index.items()))\n",
    "\n",
    "# преобразование в текст (чтобы посмотреть какую именно фразу мы анализируем) \n",
    "def sequence_to_text(list_of_indices):\n",
    "    words = [reverse_word_map.get(letter) for letter in list_of_indices]\n",
    "    return(words)"
   ]
  },
  {
   "cell_type": "code",
   "execution_count": 46,
   "id": "d91208ee-4958-4ed4-ab8b-505c8a0153ae",
   "metadata": {},
   "outputs": [
    {
     "name": "stdout",
     "output_type": "stream",
     "text": [
      "анализируемая фраза:  ['я', 'позитив']\n",
      "Вывод сети:\n",
      "[[0.05152439 0.94847566]]\n",
      "Т.е это:\n",
      "1\n"
     ]
    }
   ],
   "source": [
    "# блок, преобразующий текст в цифры\n",
    "t = \"Я люблю позитив\".lower()\n",
    "data = tokenizer.texts_to_sequences([t])\n",
    "data_pad = pad_sequences(data, maxlen=max_text_len)\n",
    "print(\"анализируемая фраза: \", sequence_to_text(data[0]) ) \n",
    "\n",
    "res = model.predict(data_pad)\n",
    "print(\"Вывод сети:\", res, \"Т.е это:\", np.argmax(res), sep='\\n')"
   ]
  },
  {
   "cell_type": "code",
   "execution_count": null,
   "id": "19cd3e72-fe33-4014-b391-ae5251cb0c41",
   "metadata": {},
   "outputs": [],
   "source": []
  }
 ],
 "metadata": {
  "kernelspec": {
   "display_name": "Python 3 (ipykernel)",
   "language": "python",
   "name": "python3"
  },
  "language_info": {
   "codemirror_mode": {
    "name": "ipython",
    "version": 3
   },
   "file_extension": ".py",
   "mimetype": "text/x-python",
   "name": "python",
   "nbconvert_exporter": "python",
   "pygments_lexer": "ipython3",
   "version": "3.9.7"
  }
 },
 "nbformat": 4,
 "nbformat_minor": 5
}
