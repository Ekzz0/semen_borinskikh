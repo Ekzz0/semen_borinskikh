{
 "cells": [
  {
   "cell_type": "markdown",
   "id": "c2100fae-ab94-4260-bd14-ea133ec7cdf4",
   "metadata": {},
   "source": [
    "Сумма возведение в квадрат"
   ]
  },
  {
   "cell_type": "code",
   "execution_count": 10,
   "id": "94d45fe9-3bf3-4da9-8512-d7ba3349a789",
   "metadata": {},
   "outputs": [],
   "source": [
    "import os\n",
    "os.environ['TF_CPP_MIN_LOG_LEVEL'] = '2'\n",
    "\n",
    "import numpy as np\n",
    "import matplotlib.pyplot as plt\n",
    "from tensorflow import keras\n",
    "from tensorflow.keras.layers import Dense"
   ]
  },
  {
   "cell_type": "markdown",
   "id": "d33f67ea-4966-4e9b-8663-1f9b7a47a9ec",
   "metadata": {},
   "source": [
    "Обучающая выборка"
   ]
  },
  {
   "cell_type": "code",
   "execution_count": 59,
   "id": "744dc357-8d4b-499f-885e-b8647ea0d6b6",
   "metadata": {},
   "outputs": [],
   "source": [
    "c = np.array([0, 1, 2, 3, 4, 5, 6,\n",
    "              1.5, 2.25, 1.03, 0.5,0.1 , 2.1,\n",
    "             3.5, 4.5, 5.5, 6.5, 7.5, 8.5]) # числа\n",
    "f = np.array([0, 1, 4, 9, 16, 25, 36,\n",
    "              2.25, 4.95, 1.0609, 0.25,0.01 ,4.41,\n",
    "             12.25, 20.25, 30.25, 42.25, 56.25, 72.25]) # квадрат "
   ]
  },
  {
   "cell_type": "code",
   "execution_count": 60,
   "id": "935a9548-4ff8-4ef2-8a46-16ffbebf2dea",
   "metadata": {},
   "outputs": [
    {
     "name": "stdout",
     "output_type": "stream",
     "text": [
      "Обучение завершено\n"
     ]
    },
    {
     "data": {
      "image/png": "[encoded data removed]",
      "text/plain": [
       "<Figure size 432x288 with 1 Axes>"
      ]
     },
     "metadata": {
      "needs_background": "light"
     },
     "output_type": "display_data"
    }
   ],
   "source": [
    "model = keras.Sequential() # создает модель нейронной многослойной сети\n",
    "# Добавление нейронов\n",
    "model.add(Dense(units=1, input_shape=(1,), activation='linear'))\n",
    "model.compile(loss='mean_squared_error', optimizer=keras.optimizers.Adam(0.1))\n",
    "history = model.fit(c, f, epochs=500, verbose=False) # обучение нейронной сети\n",
    "print(\"Обучение завершено\")\n",
    "plt.plot(history.history['loss']) # 2й history - словарь, loss - критерий качества\n",
    "#, вычисленный для каждой эпохи\n",
    "plt.grid(True)\n",
    "plt.show()"
   ]
  },
  {
   "cell_type": "code",
   "execution_count": 63,
   "id": "a69f31ed-2b93-43bf-93ce-69b21acc8632",
   "metadata": {},
   "outputs": [
    {
     "name": "stdout",
     "output_type": "stream",
     "text": [
      "[[7.221569]]\n"
     ]
    }
   ],
   "source": [
    "print(model.predict([2])) # ввод в модель каких-то данных, т.е её эксплуатация "
   ]
  },
  {
   "cell_type": "code",
   "execution_count": null,
   "id": "fe2a536e-4d16-4344-862d-d6588b05bce0",
   "metadata": {},
   "outputs": [],
   "source": []
  }
 ],
 "metadata": {
  "kernelspec": {
   "display_name": "Python 3 (ipykernel)",
   "language": "python",
   "name": "python3"
  },
  "language_info": {
   "codemirror_mode": {
    "name": "ipython",
    "version": 3
   },
   "file_extension": ".py",
   "mimetype": "text/x-python",
   "name": "python",
   "nbconvert_exporter": "python",
   "pygments_lexer": "ipython3",
   "version": "3.9.7"
  }
 },
 "nbformat": 4,
 "nbformat_minor": 5
}
