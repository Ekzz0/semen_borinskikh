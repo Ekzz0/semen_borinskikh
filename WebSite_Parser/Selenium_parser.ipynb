{
 "cells": [
  {
   "cell_type": "code",
   "execution_count": 1,
   "id": "0e53c839-f01c-417e-8d1f-3a0ec17509db",
   "metadata": {},
   "outputs": [
    {
     "name": "stdout",
     "output_type": "stream",
     "text": [
      "Collecting Selenium\n",
      "  Downloading selenium-4.1.2-py3-none-any.whl (963 kB)\n",
      "Collecting trio~=0.17\n",
      "  Downloading trio-0.20.0-py3-none-any.whl (359 kB)\n",
      "Collecting trio-websocket~=0.9\n",
      "  Downloading trio_websocket-0.9.2-py3-none-any.whl (16 kB)\n",
      "Requirement already satisfied: urllib3[secure,socks]~=1.26 in d:\\conda1\\lib\\site-packages (from Selenium) (1.26.7)\n",
      "Requirement already satisfied: cffi>=1.14 in d:\\conda1\\lib\\site-packages (from trio~=0.17->Selenium) (1.14.6)\n",
      "Requirement already satisfied: attrs>=19.2.0 in d:\\conda1\\lib\\site-packages (from trio~=0.17->Selenium) (21.2.0)\n",
      "Requirement already satisfied: async-generator>=1.9 in d:\\conda1\\lib\\site-packages (from trio~=0.17->Selenium) (1.10)\n",
      "Requirement already satisfied: sniffio in d:\\conda1\\lib\\site-packages (from trio~=0.17->Selenium) (1.2.0)\n",
      "Requirement already satisfied: idna in d:\\conda1\\lib\\site-packages (from trio~=0.17->Selenium) (3.2)\n",
      "Requirement already satisfied: sortedcontainers in d:\\conda1\\lib\\site-packages (from trio~=0.17->Selenium) (2.4.0)\n",
      "Collecting outcome\n",
      "  Downloading outcome-1.1.0-py2.py3-none-any.whl (9.7 kB)\n",
      "Requirement already satisfied: pycparser in d:\\conda1\\lib\\site-packages (from cffi>=1.14->trio~=0.17->Selenium) (2.20)\n",
      "Collecting wsproto>=0.14\n",
      "  Downloading wsproto-1.1.0-py3-none-any.whl (24 kB)\n",
      "Requirement already satisfied: pyOpenSSL>=0.14 in d:\\conda1\\lib\\site-packages (from urllib3[secure,socks]~=1.26->Selenium) (21.0.0)\n",
      "Requirement already satisfied: cryptography>=1.3.4 in d:\\conda1\\lib\\site-packages (from urllib3[secure,socks]~=1.26->Selenium) (3.4.8)\n",
      "Requirement already satisfied: certifi in d:\\conda1\\lib\\site-packages (from urllib3[secure,socks]~=1.26->Selenium) (2021.10.8)\n",
      "Requirement already satisfied: PySocks!=1.5.7,<2.0,>=1.5.6 in d:\\conda1\\lib\\site-packages (from urllib3[secure,socks]~=1.26->Selenium) (1.7.1)\n",
      "Requirement already satisfied: six>=1.5.2 in d:\\conda1\\lib\\site-packages (from pyOpenSSL>=0.14->urllib3[secure,socks]~=1.26->Selenium) (1.16.0)\n",
      "Collecting h11<1,>=0.9.0\n",
      "  Downloading h11-0.13.0-py3-none-any.whl (58 kB)\n",
      "Installing collected packages: outcome, h11, wsproto, trio, trio-websocket, Selenium\n",
      "Successfully installed Selenium-4.1.2 h11-0.13.0 outcome-1.1.0 trio-0.20.0 trio-websocket-0.9.2 wsproto-1.1.0\n"
     ]
    }
   ],
   "source": [
    "!pip install Selenium"
   ]
  },
  {
   "cell_type": "code",
   "execution_count": 6,
   "id": "74858a74-caac-449e-afb5-4a4ef71052b8",
   "metadata": {},
   "outputs": [],
   "source": [
    "from selenium.webdriver import Chrome\n",
    "from selenium.webdriver.common.keys import Keys\n",
    "from selenium.webdriver.support.ui import WebDriverWait as wait\n",
    "from selenium.webdriver.support import expected_conditions as EC\n",
    "from selenium.common.exceptions import NoSuchElementException\n",
    "from bs4 import BeautifulSoup\n",
    "from time import sleep\n",
    "from tqdm import tqdm # для отображение в юпитере бара выполняемости прогресса\n",
    " \n"
   ]
  },
  {
   "cell_type": "code",
   "execution_count": 10,
   "id": "4ff95482-0d93-4f52-bb3f-cbe8d530e498",
   "metadata": {},
   "outputs": [
    {
     "name": "stderr",
     "output_type": "stream",
     "text": [
      "C:\\Users\\S\\AppData\\Local\\Temp/ipykernel_45312/3810163439.py:1: DeprecationWarning: executable_path has been deprecated, please pass in a Service object\n",
      "  browser = Chrome('C:\\chromedriver') # запуск хром драйвера\n"
     ]
    }
   ],
   "source": [
    "browser = Chrome('C:\\chromedriver') # запуск хром драйвера"
   ]
  },
  {
   "cell_type": "code",
   "execution_count": 9,
   "id": "5318cd13-74c8-4b87-8b54-7aa6efb4c4b5",
   "metadata": {},
   "outputs": [],
   "source": [
    "url = 'https://bus.gov.ru/registry'"
   ]
  },
  {
   "cell_type": "code",
   "execution_count": 11,
   "id": "f6cf6860-3bd2-4f73-b857-349ab8d69b3a",
   "metadata": {},
   "outputs": [],
   "source": [
    "browser.get(url)"
   ]
  },
  {
   "cell_type": "code",
   "execution_count": 22,
   "id": "0e435125-ada2-432b-859f-db8b353d26d3",
   "metadata": {},
   "outputs": [],
   "source": [
    "#a = browser.find_element_by_link_text('ОФИЦИАЛЬНЫЙ САЙТ')#.get_attribute() # Можно искать элементы по их уникальным названиям\n",
    "#print(a)"
   ]
  },
  {
   "cell_type": "code",
   "execution_count": 24,
   "id": "18576745-57f2-4adc-ab14-a7d8fb6f47f4",
   "metadata": {},
   "outputs": [
    {
     "name": "stderr",
     "output_type": "stream",
     "text": [
      "C:\\Users\\S\\AppData\\Local\\Temp/ipykernel_45312/3349471466.py:1: DeprecationWarning: find_element_by_xpath is deprecated. Please use find_element(by=By.XPATH, value=xpath) instead\n",
      "  input_tab = browser.find_element_by_xpath('/html/body/div[2]/ui-view/form/div[1]/div[1]/label/input')\n"
     ]
    }
   ],
   "source": [
    "input_tab = browser.find_element_by_xpath('/html/body/div[2]/ui-view/form/div[1]/div[1]/label/input') # ищем поле для ввода"
   ]
  },
  {
   "cell_type": "code",
   "execution_count": 25,
   "id": "110c5715-d3ff-4311-b117-e5b202719a2f",
   "metadata": {},
   "outputs": [],
   "source": [
    "input_tab.send_keys('онкологический диспансер')"
   ]
  },
  {
   "cell_type": "code",
   "execution_count": 27,
   "id": "7fbde92f-1a59-4ba6-9cec-aeeddde90b1a",
   "metadata": {},
   "outputs": [
    {
     "name": "stderr",
     "output_type": "stream",
     "text": [
      "C:\\Users\\S\\AppData\\Local\\Temp/ipykernel_45312/4038147465.py:1: DeprecationWarning: find_element_by_xpath is deprecated. Please use find_element(by=By.XPATH, value=xpath) instead\n",
      "  button = browser.find_element_by_xpath('//button[@type=\"submit\"]') #//название_тега[@название_артрибута=\"значение_артрибута\"]\n"
     ]
    }
   ],
   "source": [
    "button = browser.find_element_by_xpath('//button[@type=\"submit\"]') #//название_тега[@название_артрибута=\"значение_артрибута\"]\n",
    "# или можно было бы имитировать нажатие кнопки\n",
    "# input_tab.send_keys(Keys.ENTER) - нажать на Enter\n",
    "button.click()"
   ]
  },
  {
   "cell_type": "code",
   "execution_count": 29,
   "id": "f795aed5-369a-4bb8-a55d-c8cf95b362d6",
   "metadata": {},
   "outputs": [],
   "source": [
    "soup = BeautifulSoup(browser.page_source, \"lxml\")"
   ]
  },
  {
   "cell_type": "code",
   "execution_count": 34,
   "id": "e74336d6-cc74-4977-96f2-6f3901fedcfc",
   "metadata": {},
   "outputs": [
    {
     "data": {
      "text/plain": [
       "'АВТОНОМНОЕ УЧРЕЖДЕНИЕ ЧУВАШСКОЙ РЕСПУБЛИКИ \"РЕСПУБЛИКАНСКИЙ КЛИНИЧЕСКИЙ ОНКОЛОГИЧЕСКИЙ ДИСПАНСЕР\" МИНИСТЕРСТВА ЗДРАВООХРАНЕНИЯ ЧУВАШСКОЙ РЕСПУБЛИКИ'"
      ]
     },
     "execution_count": 34,
     "metadata": {},
     "output_type": "execute_result"
    }
   ],
   "source": [
    "name = soup.find('a', class_='result__title').text.strip()\n",
    "name"
   ]
  },
  {
   "cell_type": "code",
   "execution_count": 39,
   "id": "876fd75a-d7c0-4a15-a7a5-8eb1d3cfcda1",
   "metadata": {},
   "outputs": [
    {
     "data": {
      "text/plain": [
       "'https://bus.gov.ru/registry//agency/22908/register-info'"
      ]
     },
     "execution_count": 39,
     "metadata": {},
     "output_type": "execute_result"
    }
   ],
   "source": [
    "link = 'https://bus.gov.ru/registry/' + soup.find('a', class_='result__button_registry').get('href')\n",
    "link"
   ]
  },
  {
   "cell_type": "code",
   "execution_count": 48,
   "id": "82a8846d-ccc1-4638-9088-cf1e42b505ca",
   "metadata": {},
   "outputs": [
    {
     "data": {
      "text/plain": [
       "10"
      ]
     },
     "execution_count": 48,
     "metadata": {},
     "output_type": "execute_result"
    }
   ],
   "source": [
    "# 1й ВАРИАНТ\n",
    "a = soup.findAll('div', class_='result')\n",
    "len(a)"
   ]
  },
  {
   "cell_type": "code",
   "execution_count": 49,
   "id": "74a602b0-a38e-41e2-811f-a39306ca4966",
   "metadata": {},
   "outputs": [
    {
     "name": "stderr",
     "output_type": "stream",
     "text": [
      "C:\\Users\\S\\AppData\\Local\\Temp/ipykernel_45312/252188503.py:2: DeprecationWarning: find_elements_by_class_name is deprecated. Please use find_elements(by=By.CLASS_NAME, value=name) instead\n",
      "  b = browser.find_elements_by_class_name('result')\n"
     ]
    },
    {
     "data": {
      "text/plain": [
       "10"
      ]
     },
     "execution_count": 49,
     "metadata": {},
     "output_type": "execute_result"
    }
   ],
   "source": [
    "# 2й ВАРИАНТ\n",
    "b = browser.find_elements_by_class_name('result')\n",
    "len(b)"
   ]
  },
  {
   "cell_type": "code",
   "execution_count": 61,
   "id": "d2a3747d-abb4-41ab-b444-50b351cfaa80",
   "metadata": {},
   "outputs": [
    {
     "name": "stderr",
     "output_type": "stream",
     "text": [
      "C:\\Users\\S\\AppData\\Local\\Temp/ipykernel_45312/3572069903.py:4: DeprecationWarning: executable_path has been deprecated, please pass in a Service object\n",
      "  browser = Chrome('C:\\chromedriver') # запуск хром драйвера\n",
      "C:\\Users\\S\\AppData\\Local\\Temp/ipykernel_45312/3572069903.py:8: DeprecationWarning: find_element_by_xpath is deprecated. Please use find_element(by=By.XPATH, value=xpath) instead\n",
      "  input_tab = browser.find_element_by_xpath('/html/body/div[2]/ui-view/form/div[1]/div[1]/label/input') # ищем поле для ввода\n"
     ]
    },
    {
     "name": "stdout",
     "output_type": "stream",
     "text": [
      "Страница:  1\n"
     ]
    },
    {
     "name": "stderr",
     "output_type": "stream",
     "text": [
      "C:\\Users\\S\\AppData\\Local\\Temp/ipykernel_45312/3572069903.py:24: DeprecationWarning: find_element_by_class_name is deprecated. Please use find_element(by=By.CLASS_NAME, value=name) instead\n",
      "  name = browser.find_element_by_class_name('result__title').text.strip()\n",
      "C:\\Users\\S\\AppData\\Local\\Temp/ipykernel_45312/3572069903.py:28: DeprecationWarning: find_element_by_class_name is deprecated. Please use find_element(by=By.CLASS_NAME, value=name) instead\n",
      "  browser.find_element_by_class_name('pagination__next').click()\n"
     ]
    },
    {
     "name": "stdout",
     "output_type": "stream",
     "text": [
      "Длина списка:  10\n",
      "Страница:  2\n",
      "Длина списка:  20\n",
      "Страница:  3\n",
      "Длина списка:  30\n",
      "Страница:  4\n",
      "Длина списка:  40\n",
      "Страница:  5\n",
      "Длина списка:  50\n",
      "Страница:  6\n",
      "Длина списка:  60\n",
      "Страница:  7\n",
      "Длина списка:  70\n",
      "Страница:  8\n",
      "Длина списка:  80\n",
      "Страница:  9\n",
      "Длина списка:  90\n",
      "Страница:  10\n"
     ]
    },
    {
     "ename": "NoSuchElementException",
     "evalue": "Message: no such element: Unable to locate element: {\"method\":\"css selector\",\"selector\":\".result__title\"}\n  (Session info: chrome=99.0.4844.51)\nStacktrace:\nBacktrace:\n\tOrdinal0 [0x008B5AD3+2579155]\n\tOrdinal0 [0x0084A3E1+2139105]\n\tOrdinal0 [0x007440B8+1065144]\n\tOrdinal0 [0x007706E4+1246948]\n\tOrdinal0 [0x007708DB+1247451]\n\tOrdinal0 [0x0079C9B2+1427890]\n\tOrdinal0 [0x0078AEC4+1355460]\n\tOrdinal0 [0x0079ADAA+1420714]\n\tOrdinal0 [0x0078AC96+1354902]\n\tOrdinal0 [0x00765A06+1202694]\n\tOrdinal0 [0x007668E6+1206502]\n\tGetHandleVerifier [0x00A510D2+1633810]\n\tGetHandleVerifier [0x00B105FC+2417468]\n\tGetHandleVerifier [0x00943E01+531265]\n\tGetHandleVerifier [0x00942BE6+526630]\n\tOrdinal0 [0x0085034B+2163531]\n\tOrdinal0 [0x008550F8+2183416]\n\tOrdinal0 [0x008551E5+2183653]\n\tOrdinal0 [0x0085ED7C+2223484]\n\tBaseThreadInitThunk [0x75C1FA29+25]\n\tRtlGetAppContainerNamedObjectPath [0x777B7A9E+286]\n\tRtlGetAppContainerNamedObjectPath [0x777B7A6E+238]\n",
     "output_type": "error",
     "traceback": [
      "\u001b[1;31m---------------------------------------------------------------------------\u001b[0m",
      "\u001b[1;31mNoSuchElementException\u001b[0m                    Traceback (most recent call last)",
      "\u001b[1;32m~\\AppData\\Local\\Temp/ipykernel_45312/3572069903.py\u001b[0m in \u001b[0;36m<module>\u001b[1;34m\u001b[0m\n\u001b[0;32m     22\u001b[0m \u001b[1;33m\u001b[0m\u001b[0m\n\u001b[0;32m     23\u001b[0m         \u001b[1;31m#name = org.find('a', class_='result__title').text.strip()\u001b[0m\u001b[1;33m\u001b[0m\u001b[1;33m\u001b[0m\u001b[0m\n\u001b[1;32m---> 24\u001b[1;33m         \u001b[0mname\u001b[0m \u001b[1;33m=\u001b[0m \u001b[0mbrowser\u001b[0m\u001b[1;33m.\u001b[0m\u001b[0mfind_element_by_class_name\u001b[0m\u001b[1;33m(\u001b[0m\u001b[1;34m'result__title'\u001b[0m\u001b[1;33m)\u001b[0m\u001b[1;33m.\u001b[0m\u001b[0mtext\u001b[0m\u001b[1;33m.\u001b[0m\u001b[0mstrip\u001b[0m\u001b[1;33m(\u001b[0m\u001b[1;33m)\u001b[0m\u001b[1;33m\u001b[0m\u001b[1;33m\u001b[0m\u001b[0m\n\u001b[0m\u001b[0;32m     25\u001b[0m         \u001b[0mlink\u001b[0m \u001b[1;33m=\u001b[0m \u001b[1;34m'https://bus.gov.ru/registry/'\u001b[0m \u001b[1;33m+\u001b[0m \u001b[0morg\u001b[0m\u001b[1;33m.\u001b[0m\u001b[0mfind\u001b[0m\u001b[1;33m(\u001b[0m\u001b[1;34m'a'\u001b[0m\u001b[1;33m,\u001b[0m \u001b[0mclass_\u001b[0m\u001b[1;33m=\u001b[0m\u001b[1;34m'result__button_registry'\u001b[0m\u001b[1;33m)\u001b[0m\u001b[1;33m.\u001b[0m\u001b[0mget\u001b[0m\u001b[1;33m(\u001b[0m\u001b[1;34m'href'\u001b[0m\u001b[1;33m)\u001b[0m\u001b[1;33m\u001b[0m\u001b[1;33m\u001b[0m\u001b[0m\n\u001b[0;32m     26\u001b[0m \u001b[1;33m\u001b[0m\u001b[0m\n",
      "\u001b[1;32mD:\\conda1\\lib\\site-packages\\selenium\\webdriver\\remote\\webdriver.py\u001b[0m in \u001b[0;36mfind_element_by_class_name\u001b[1;34m(self, name)\u001b[0m\n\u001b[0;32m    759\u001b[0m             \u001b[0mstacklevel\u001b[0m\u001b[1;33m=\u001b[0m\u001b[1;36m2\u001b[0m\u001b[1;33m,\u001b[0m\u001b[1;33m\u001b[0m\u001b[1;33m\u001b[0m\u001b[0m\n\u001b[0;32m    760\u001b[0m         )\n\u001b[1;32m--> 761\u001b[1;33m         \u001b[1;32mreturn\u001b[0m \u001b[0mself\u001b[0m\u001b[1;33m.\u001b[0m\u001b[0mfind_element\u001b[0m\u001b[1;33m(\u001b[0m\u001b[0mby\u001b[0m\u001b[1;33m=\u001b[0m\u001b[0mBy\u001b[0m\u001b[1;33m.\u001b[0m\u001b[0mCLASS_NAME\u001b[0m\u001b[1;33m,\u001b[0m \u001b[0mvalue\u001b[0m\u001b[1;33m=\u001b[0m\u001b[0mname\u001b[0m\u001b[1;33m)\u001b[0m\u001b[1;33m\u001b[0m\u001b[1;33m\u001b[0m\u001b[0m\n\u001b[0m\u001b[0;32m    762\u001b[0m \u001b[1;33m\u001b[0m\u001b[0m\n\u001b[0;32m    763\u001b[0m     \u001b[1;32mdef\u001b[0m \u001b[0mfind_elements_by_class_name\u001b[0m\u001b[1;33m(\u001b[0m\u001b[0mself\u001b[0m\u001b[1;33m,\u001b[0m \u001b[0mname\u001b[0m\u001b[1;33m)\u001b[0m \u001b[1;33m->\u001b[0m \u001b[0mList\u001b[0m\u001b[1;33m[\u001b[0m\u001b[0mWebElement\u001b[0m\u001b[1;33m]\u001b[0m\u001b[1;33m:\u001b[0m\u001b[1;33m\u001b[0m\u001b[1;33m\u001b[0m\u001b[0m\n",
      "\u001b[1;32mD:\\conda1\\lib\\site-packages\\selenium\\webdriver\\remote\\webdriver.py\u001b[0m in \u001b[0;36mfind_element\u001b[1;34m(self, by, value)\u001b[0m\n\u001b[0;32m   1246\u001b[0m             \u001b[0mvalue\u001b[0m \u001b[1;33m=\u001b[0m \u001b[1;34m'[name=\"%s\"]'\u001b[0m \u001b[1;33m%\u001b[0m \u001b[0mvalue\u001b[0m\u001b[1;33m\u001b[0m\u001b[1;33m\u001b[0m\u001b[0m\n\u001b[0;32m   1247\u001b[0m \u001b[1;33m\u001b[0m\u001b[0m\n\u001b[1;32m-> 1248\u001b[1;33m         return self.execute(Command.FIND_ELEMENT, {\n\u001b[0m\u001b[0;32m   1249\u001b[0m             \u001b[1;34m'using'\u001b[0m\u001b[1;33m:\u001b[0m \u001b[0mby\u001b[0m\u001b[1;33m,\u001b[0m\u001b[1;33m\u001b[0m\u001b[1;33m\u001b[0m\u001b[0m\n\u001b[0;32m   1250\u001b[0m             'value': value})['value']\n",
      "\u001b[1;32mD:\\conda1\\lib\\site-packages\\selenium\\webdriver\\remote\\webdriver.py\u001b[0m in \u001b[0;36mexecute\u001b[1;34m(self, driver_command, params)\u001b[0m\n\u001b[0;32m    423\u001b[0m         \u001b[0mresponse\u001b[0m \u001b[1;33m=\u001b[0m \u001b[0mself\u001b[0m\u001b[1;33m.\u001b[0m\u001b[0mcommand_executor\u001b[0m\u001b[1;33m.\u001b[0m\u001b[0mexecute\u001b[0m\u001b[1;33m(\u001b[0m\u001b[0mdriver_command\u001b[0m\u001b[1;33m,\u001b[0m \u001b[0mparams\u001b[0m\u001b[1;33m)\u001b[0m\u001b[1;33m\u001b[0m\u001b[1;33m\u001b[0m\u001b[0m\n\u001b[0;32m    424\u001b[0m         \u001b[1;32mif\u001b[0m \u001b[0mresponse\u001b[0m\u001b[1;33m:\u001b[0m\u001b[1;33m\u001b[0m\u001b[1;33m\u001b[0m\u001b[0m\n\u001b[1;32m--> 425\u001b[1;33m             \u001b[0mself\u001b[0m\u001b[1;33m.\u001b[0m\u001b[0merror_handler\u001b[0m\u001b[1;33m.\u001b[0m\u001b[0mcheck_response\u001b[0m\u001b[1;33m(\u001b[0m\u001b[0mresponse\u001b[0m\u001b[1;33m)\u001b[0m\u001b[1;33m\u001b[0m\u001b[1;33m\u001b[0m\u001b[0m\n\u001b[0m\u001b[0;32m    426\u001b[0m             response['value'] = self._unwrap_value(\n\u001b[0;32m    427\u001b[0m                 response.get('value', None))\n",
      "\u001b[1;32mD:\\conda1\\lib\\site-packages\\selenium\\webdriver\\remote\\errorhandler.py\u001b[0m in \u001b[0;36mcheck_response\u001b[1;34m(self, response)\u001b[0m\n\u001b[0;32m    245\u001b[0m                 \u001b[0malert_text\u001b[0m \u001b[1;33m=\u001b[0m \u001b[0mvalue\u001b[0m\u001b[1;33m[\u001b[0m\u001b[1;34m'alert'\u001b[0m\u001b[1;33m]\u001b[0m\u001b[1;33m.\u001b[0m\u001b[0mget\u001b[0m\u001b[1;33m(\u001b[0m\u001b[1;34m'text'\u001b[0m\u001b[1;33m)\u001b[0m\u001b[1;33m\u001b[0m\u001b[1;33m\u001b[0m\u001b[0m\n\u001b[0;32m    246\u001b[0m             \u001b[1;32mraise\u001b[0m \u001b[0mexception_class\u001b[0m\u001b[1;33m(\u001b[0m\u001b[0mmessage\u001b[0m\u001b[1;33m,\u001b[0m \u001b[0mscreen\u001b[0m\u001b[1;33m,\u001b[0m \u001b[0mstacktrace\u001b[0m\u001b[1;33m,\u001b[0m \u001b[0malert_text\u001b[0m\u001b[1;33m)\u001b[0m  \u001b[1;31m# type: ignore[call-arg]  # mypy is not smart enough here\u001b[0m\u001b[1;33m\u001b[0m\u001b[1;33m\u001b[0m\u001b[0m\n\u001b[1;32m--> 247\u001b[1;33m         \u001b[1;32mraise\u001b[0m \u001b[0mexception_class\u001b[0m\u001b[1;33m(\u001b[0m\u001b[0mmessage\u001b[0m\u001b[1;33m,\u001b[0m \u001b[0mscreen\u001b[0m\u001b[1;33m,\u001b[0m \u001b[0mstacktrace\u001b[0m\u001b[1;33m)\u001b[0m\u001b[1;33m\u001b[0m\u001b[1;33m\u001b[0m\u001b[0m\n\u001b[0m\u001b[0;32m    248\u001b[0m \u001b[1;33m\u001b[0m\u001b[0m\n\u001b[0;32m    249\u001b[0m     \u001b[1;32mdef\u001b[0m \u001b[0m_value_or_default\u001b[0m\u001b[1;33m(\u001b[0m\u001b[0mself\u001b[0m\u001b[1;33m,\u001b[0m \u001b[0mobj\u001b[0m\u001b[1;33m:\u001b[0m \u001b[0mMapping\u001b[0m\u001b[1;33m[\u001b[0m\u001b[0m_KT\u001b[0m\u001b[1;33m,\u001b[0m \u001b[0m_VT\u001b[0m\u001b[1;33m]\u001b[0m\u001b[1;33m,\u001b[0m \u001b[0mkey\u001b[0m\u001b[1;33m:\u001b[0m \u001b[0m_KT\u001b[0m\u001b[1;33m,\u001b[0m \u001b[0mdefault\u001b[0m\u001b[1;33m:\u001b[0m \u001b[0m_VT\u001b[0m\u001b[1;33m)\u001b[0m \u001b[1;33m->\u001b[0m \u001b[0m_VT\u001b[0m\u001b[1;33m:\u001b[0m\u001b[1;33m\u001b[0m\u001b[1;33m\u001b[0m\u001b[0m\n",
      "\u001b[1;31mNoSuchElementException\u001b[0m: Message: no such element: Unable to locate element: {\"method\":\"css selector\",\"selector\":\".result__title\"}\n  (Session info: chrome=99.0.4844.51)\nStacktrace:\nBacktrace:\n\tOrdinal0 [0x008B5AD3+2579155]\n\tOrdinal0 [0x0084A3E1+2139105]\n\tOrdinal0 [0x007440B8+1065144]\n\tOrdinal0 [0x007706E4+1246948]\n\tOrdinal0 [0x007708DB+1247451]\n\tOrdinal0 [0x0079C9B2+1427890]\n\tOrdinal0 [0x0078AEC4+1355460]\n\tOrdinal0 [0x0079ADAA+1420714]\n\tOrdinal0 [0x0078AC96+1354902]\n\tOrdinal0 [0x00765A06+1202694]\n\tOrdinal0 [0x007668E6+1206502]\n\tGetHandleVerifier [0x00A510D2+1633810]\n\tGetHandleVerifier [0x00B105FC+2417468]\n\tGetHandleVerifier [0x00943E01+531265]\n\tGetHandleVerifier [0x00942BE6+526630]\n\tOrdinal0 [0x0085034B+2163531]\n\tOrdinal0 [0x008550F8+2183416]\n\tOrdinal0 [0x008551E5+2183653]\n\tOrdinal0 [0x0085ED7C+2223484]\n\tBaseThreadInitThunk [0x75C1FA29+25]\n\tRtlGetAppContainerNamedObjectPath [0x777B7A9E+286]\n\tRtlGetAppContainerNamedObjectPath [0x777B7A6E+238]\n"
     ]
    }
   ],
   "source": [
    "# СОБСТВЕННО САМА ПРОГРАММА\n",
    "data = []\n",
    "\n",
    "browser = Chrome('C:\\chromedriver') # запуск хром драйвера\n",
    "url = 'https://bus.gov.ru/registry'\n",
    "browser.get(url)\n",
    "\n",
    "input_tab = browser.find_element_by_xpath('/html/body/div[2]/ui-view/form/div[1]/div[1]/label/input') # ищем поле для ввода\n",
    "input_tab.send_keys('онкологический диспансер') # передаем критерий поиска\n",
    "# Получим результаты поиска\n",
    "#button = browser.find_element_by_xpath('//button[@type=\"submit\"]') #//название_тега[@название_артрибута=\"значение_артрибута\"]\n",
    "# аналог предыдущей строки: input_tab.send_keys(Keys.ENTER) - нажать на Enter\n",
    "input_tab.send_keys(Keys.ENTER)\n",
    "sleep(2)\n",
    "for p in range(10 + 1):\n",
    "    print(\"Страница: \", p+1)\n",
    "    soup = BeautifulSoup(browser.page_source, \"lxml\") #передаем инфу в суп\n",
    "\n",
    "    orgs = soup.findAll('div', class_='result') # Нашли все организации\n",
    "\n",
    "    for org in orgs:\n",
    "\n",
    "        name = org.find('a', class_='result__title').text.strip()\n",
    "        #name = browser.find_element_by_class_name('result__title').text.strip()\n",
    "        link = 'https://bus.gov.ru/registry/' + org.find('a', class_='result__button_registry')\n",
    "        browser.find_element_by_class_name('result__button_registry').get('href').text.strip()\n",
    "\n",
    "        data.append([name, link])\n",
    "    browser.find_element_by_class_name('pagination__next').click()\n",
    "    sleep(5)\n",
    "    print(\"Длина списка: \",len(data))\n"
   ]
  },
  {
   "cell_type": "code",
   "execution_count": 62,
   "id": "7153fda5-1d07-401f-bf09-4d4913d7473f",
   "metadata": {},
   "outputs": [
    {
     "data": {
      "text/plain": [
       "90"
      ]
     },
     "execution_count": 62,
     "metadata": {},
     "output_type": "execute_result"
    }
   ],
   "source": [
    "len(data)"
   ]
  },
  {
   "cell_type": "code",
   "execution_count": null,
   "id": "bb1ceb9d-4de3-4277-aadf-1ff8270728ec",
   "metadata": {},
   "outputs": [],
   "source": []
  }
 ],
 "metadata": {
  "kernelspec": {
   "display_name": "Python 3 (ipykernel)",
   "language": "python",
   "name": "python3"
  },
  "language_info": {
   "codemirror_mode": {
    "name": "ipython",
    "version": 3
   },
   "file_extension": ".py",
   "mimetype": "text/x-python",
   "name": "python",
   "nbconvert_exporter": "python",
   "pygments_lexer": "ipython3",
   "version": "3.9.7"
  }
 },
 "nbformat": 4,
 "nbformat_minor": 5
}
