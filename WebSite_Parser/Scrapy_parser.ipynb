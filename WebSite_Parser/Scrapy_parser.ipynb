{
 "cells": [
  {
   "cell_type": "code",
   "execution_count": 11,
   "id": "07259d05-83fa-454e-a5f2-c39c827198e1",
   "metadata": {},
   "outputs": [],
   "source": [
    "import scrapy\n",
    "# https://www.youtube.com/watch?v=n6pq0RjfpEM&list=PLpEUzbkLOtFB7FPaBh-g6DKcOlwBpzs8A&index=3"
   ]
  },
  {
   "cell_type": "code",
   "execution_count": 4,
   "id": "ceb7df2c-9097-4adc-8438-825d21d788b8",
   "metadata": {},
   "outputs": [
    {
     "ename": "IndentationError",
     "evalue": "expected an indented block (Temp/ipykernel_63892/3052369156.py, line 1)",
     "output_type": "error",
     "traceback": [
      "\u001b[1;36m  File \u001b[1;32m\"C:\\Users\\S\\AppData\\Local\\Temp/ipykernel_63892/3052369156.py\"\u001b[1;36m, line \u001b[1;32m1\u001b[0m\n\u001b[1;33m    class BookSpider(scrapy.Spider):\u001b[0m\n\u001b[1;37m                                    ^\u001b[0m\n\u001b[1;31mIndentationError\u001b[0m\u001b[1;31m:\u001b[0m expected an indented block\n"
     ]
    }
   ],
   "source": [
    "class BookSpider(scrapy.Spider):\n",
    "    name = 'book24'\n",
    "    start_urls = 'https://book24.ru/catalog/business-1671/'\n",
    "    \n",
    "    def parse(self, response):\n",
    "        for link in response.css('product-card__image-holder a::attrhref"
   ]
  },
  {
   "cell_type": "code",
   "execution_count": 5,
   "id": "3fe8eb28-503d-4dfa-b069-6cdb7b55840b",
   "metadata": {},
   "outputs": [
    {
     "ename": "NameError",
     "evalue": "name 'response' is not defined",
     "output_type": "error",
     "traceback": [
      "\u001b[1;31m---------------------------------------------------------------------------\u001b[0m",
      "\u001b[1;31mNameError\u001b[0m                                 Traceback (most recent call last)",
      "\u001b[1;32m~\\AppData\\Local\\Temp/ipykernel_63892/3636019669.py\u001b[0m in \u001b[0;36m<module>\u001b[1;34m\u001b[0m\n\u001b[1;32m----> 1\u001b[1;33m \u001b[0mresponse\u001b[0m\u001b[1;33m.\u001b[0m\u001b[0mcss\u001b[0m\u001b[1;33m(\u001b[0m\u001b[1;34m'product-card__image-holder a::attr(href)'\u001b[0m\u001b[1;33m)\u001b[0m\u001b[1;33m\u001b[0m\u001b[1;33m\u001b[0m\u001b[0m\n\u001b[0m",
      "\u001b[1;31mNameError\u001b[0m: name 'response' is not defined"
     ]
    }
   ],
   "source": [
    "response.css('product-card__image-holder a::attr(href)')"
   ]
  },
  {
   "cell_type": "code",
   "execution_count": 6,
   "id": "5f46896e-0d97-43a1-9f39-5345f356bbaf",
   "metadata": {},
   "outputs": [],
   "source": [
    "mkdir ourspider"
   ]
  },
  {
   "cell_type": "code",
   "execution_count": 7,
   "id": "bbe2da10-79c3-4f79-ae73-4460d07b6805",
   "metadata": {},
   "outputs": [
    {
     "name": "stdout",
     "output_type": "stream",
     "text": [
      "C:\\Users\\S\\!0- Python\\Basic Python\\ourspider\n"
     ]
    }
   ],
   "source": [
    "cd ourspider"
   ]
  },
  {
   "cell_type": "code",
   "execution_count": 9,
   "id": "3b025fae-c48c-4d94-91c9-6eba7c2a6c36",
   "metadata": {},
   "outputs": [
    {
     "name": "stdout",
     "output_type": "stream",
     "text": [
      "New Scrapy project 'business', using template directory 'D:\\conda1\\lib\\site-packages\\scrapy\\templates\\project', created in:\n",
      "    C:\\Users\\S\\!0- Python\\Basic Python\\ourspider\\business\n",
      "\n",
      "You can start your first spider with:\n",
      "    cd business\n",
      "    scrapy genspider example example.com\n"
     ]
    }
   ],
   "source": [
    "!scrapy startproject business"
   ]
  },
  {
   "cell_type": "code",
   "execution_count": 10,
   "id": "cdc48c35-470b-4606-9cbd-c406b8b4a96c",
   "metadata": {},
   "outputs": [
    {
     "name": "stdout",
     "output_type": "stream",
     "text": [
      "C:\\Users\\S\\!0- Python\\Basic Python\\ourspider\\business\n"
     ]
    }
   ],
   "source": [
    "cd business"
   ]
  },
  {
   "cell_type": "code",
   "execution_count": null,
   "id": "73231a8e-9511-4a22-ab2f-efc6f05bc455",
   "metadata": {},
   "outputs": [],
   "source": []
  }
 ],
 "metadata": {
  "kernelspec": {
   "display_name": "Python 3 (ipykernel)",
   "language": "python",
   "name": "python3"
  },
  "language_info": {
   "codemirror_mode": {
    "name": "ipython",
    "version": 3
   },
   "file_extension": ".py",
   "mimetype": "text/x-python",
   "name": "python",
   "nbconvert_exporter": "python",
   "pygments_lexer": "ipython3",
   "version": "3.9.7"
  }
 },
 "nbformat": 4,
 "nbformat_minor": 5
}
