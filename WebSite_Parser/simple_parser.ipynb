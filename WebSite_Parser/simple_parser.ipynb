{
 "cells": [
  {
   "cell_type": "code",
   "execution_count": 214,
   "id": "a70116cb-4250-4736-b672-73f09a3e581d",
   "metadata": {},
   "outputs": [],
   "source": [
    "import requests \n",
    "from bs4 import BeautifulSoup\n",
    "from time import sleep\n",
    "import pandas as pd"
   ]
  },
  {
   "cell_type": "code",
   "execution_count": 218,
   "id": "d73bbfad-d8b2-4d1b-b40e-09302e759b0e",
   "metadata": {},
   "outputs": [],
   "source": [
    "url = 'https://spb.cian.ru/kupit-kvartiru/'\n",
    "#print(url)\n",
    "r = requests.get(url) # отправляем запрос на сервер\n",
    "#r.text"
   ]
  },
  {
   "cell_type": "code",
   "execution_count": 219,
   "id": "7febedac-aa6c-43f6-8e16-8640479bb967",
   "metadata": {
    "tags": []
   },
   "outputs": [
    {
     "name": "stdout",
     "output_type": "stream",
     "text": [
      "1\n",
      "2\n",
      "3\n",
      "4\n",
      "5\n"
     ]
    }
   ],
   "source": [
    "data = []\n",
    "for p in range(1,5+1):\n",
    "    print(p)\n",
    "    url = url = f'https://spb.cian.ru/cat.php?deal_type=sale&engine_version=2&offer_type=flat&p={p}&region=2' # ходим по нужным страницам\n",
    "    r = requests.get(url) # отправляем запрос на сервер\n",
    "    soup = BeautifulSoup(r.text, \"lxml\")\n",
    "    houses = soup.findAll('article', class_='_93444fe79c--container--Povoi _93444fe79c--cont--OzgVc')\n",
    "    sleep(1) # пауза 3 сек - чтобы не перегружать систему\n",
    "    for house in houses:\n",
    "        try:\n",
    "            link = house.find('a', class_='_93444fe79c--link--eoxce').get('href')\n",
    "        except:\n",
    "            link = ''\n",
    "            \n",
    "        try:\n",
    "            russian_name = house.find('div', class_='_93444fe79c--row--bFYZ_').find('span', class_='').text\n",
    "        except:\n",
    "            russian_name = ''\n",
    "            \n",
    "        try:    \n",
    "            company = house.find('span', class_='_93444fe79c--color_current_color--gpi6p _93444fe79c--lineHeight_6u--A1GMI _93444fe79c--fontWeight_bold--ePDnv _93444fe79c--fontSize_16px--RB9YW _93444fe79c--display_block--pDAEx _93444fe79c--text--g9xAG').text\n",
    "        except:\n",
    "            company = ''\n",
    "            \n",
    "        try:\n",
    "            metro = house.find('a', class_='_93444fe79c--link--BwwJO').find('div', class_='').text\n",
    "        except:\n",
    "            metro = ''\n",
    "            \n",
    "        try:\n",
    "            price = house.find('span', class_='_93444fe79c--color_black_100--kPHhJ _93444fe79c--lineHeight_28px--whmWV _93444fe79c--fontWeight_bold--ePDnv _93444fe79c--fontSize_22px--viEqA _93444fe79c--display_block--pDAEx _93444fe79c--text--g9xAG _93444fe79c--text_letterSpacing__normal--xbqP6').find('span', class_='').text\n",
    "        except:\n",
    "            price = ''\n",
    "        \n",
    "        data.append([russian_name, company, metro, price, link])\n",
    "        \n"
   ]
  },
  {
   "cell_type": "code",
   "execution_count": 215,
   "id": "736f5153-833e-41de-bcf5-00761af8d68a",
   "metadata": {},
   "outputs": [
    {
     "data": {
      "text/plain": [
       "140"
      ]
     },
     "execution_count": 215,
     "metadata": {},
     "output_type": "execute_result"
    }
   ],
   "source": [
    "len(data)"
   ]
  },
  {
   "cell_type": "code",
   "execution_count": 216,
   "id": "16a4afb6-95cc-4799-b315-013343381813",
   "metadata": {},
   "outputs": [
    {
     "data": {
      "text/plain": [
       "';russian_name;company;metro;price;link\\r\\n0;1-комн. кв., 49,6 м², 4/9 этаж;GloraХ;Площадь Александра Невского;22 699 999\\xa0₽;https://spb.cian.ru/sale/flat/269766322/\\r\\n1;2-комн. кв., 79,85 м², 3/15 этаж;GloraХ;Ладожская;19 899 999\\xa0₽;https://spb.cian.ru/sale/flat/269637747/\\r\\n2;3-комн. кв., 105,1 м², 5/9 этаж;GloraХ;Площадь Александра Невского;42 999 999\\xa0₽;https://spb.cian.ru/sale/flat/251697089/\\r\\n3;3-комн. кв., 74,1 м², 4/5 этаж;ЦАН - Центральное;Ломоносовская;10 350 000\\xa0₽;https://spb.cian.ru/sale/flat/267889892/\\r\\n4;2-комн. кв., 64,4 м², 3/8 этаж;ЦАН - Центральное;Ломоносовская;12 000 000\\xa0₽;https://spb.cian.ru/sale/flat/267183957/\\r\\n5;Готовая. Бизнес класс. наб. Невы;Наталья Нечаева;Елизаровская;10 000 000\\xa0₽;https://spb.cian.ru/sale/flat/265325365/\\r\\n6;3-комн. кв., 71,68 м², 4/19 этаж;GloraХ;Зенит;18 899 999\\xa0₽;https://spb.cian.ru/sale/flat/269230667/\\r\\n7;Готовая, последний шанс под 4.5%!;Наталья Нечаева;Комендантский проспект;15 500 000\\xa0₽;https://spb.cian.ru/sale/flat/267509283/\\r\\n8;1-комн. кв., 36 м², 2/19 этаж;GloraХ;Зенит;11 399 999\\xa0₽;https://spb.cian.ru/sale/flat/269230594/\\r\\n9;2-комн. кв., 52,72 м², 3/19 этаж;GloraХ;Зенит;15 099 999\\xa0₽;https://spb.cian.ru/sale/flat/270048394/\\r\\n10;Студия, 22,34 м², 2/15 этаж;GloraХ;Ладожская;5 889 999\\xa0₽;https://spb.cian.ru/sale/flat/270417228/\\r\\n11;2-комн. кв., 57,2 м², 12/19 этаж;ЦАН - Центральное;Пионерская;11 000 000\\xa0₽;https://spb.cian.ru/sale/flat/268954096/\\r\\n12;Студия, 25,6 м², 6/11 этаж;ЦАН - Центральное;Старая Деревня;8 200 000\\xa0₽;https://spb.cian.ru/sale/flat/264979755/\\r\\n13;1-комн. кв., 43,8 м², 13/24 этаж;ЦАН - Центральное;Комендантский проспект;8 700 000\\xa0₽;https://spb.cian.ru/sale/flat/269637678/\\r\\n14;Студия, 30,62 м², 2/19 этаж;GloraХ;Зенит;10 499 999\\xa0₽;https://spb.cian.ru/sale/flat/267285523/\\r\\n15;Студия, 25,9 м², 15/25 этаж;ID 49618121;Проспект Просвещения;6 350 000\\xa0₽;https://spb.cian.ru/sale/flat/270691949/\\r\\n16;2-комн. кв., 54,6 м², 7/20 этаж;GloraХ;Зенит;16 499 999\\xa0₽;https://spb.cian.ru/sale/flat/251939024/\\r\\n17;1-комн. кв., 34,16 м², 4/20 этаж;GloraХ;Зенит;10 999 999\\xa0₽;https://spb.cian.ru/sale/flat/251938963/\\r\\n18;2-комн. кв., 57,76 м², 2/14 этаж;GloraХ;Ладожская;15 099 999\\xa0₽;https://spb.cian.ru/sale/flat/262481409/\\r\\n19;2-комн. кв., 60,9 м², 3/3 этаж;ЦАН - Центральное;Проспект Ветеранов;6 500 000\\xa0₽;https://spb.cian.ru/sale/flat/269308647/\\r\\n20;Студия, 31,06 м², 2/20 этаж;GloraХ;Зенит;10 299 999\\xa0₽;https://spb.cian.ru/sale/flat/255124439/\\r\\n21;3-комн. кв., 74,52 м², 12/20 этаж;GloraХ;Зенит;22 199 999\\xa0₽;https://spb.cian.ru/sale/flat/251938885/\\r\\n22;Квартира с ремонтом и мебелью;House Estate;Сергиево;4 550 000\\xa0₽;https://spb.cian.ru/sale/flat/269450113/\\r\\n23;2-комн. кв., 77,15 м², 1/6 этаж;AAG;Василеостровская;26 555 030\\xa0₽;https://spb.cian.ru/sale/flat/267463493/\\r\\n24;3-комн. кв., 101,6 м², 4/18 этаж;ЦАН - Центральное;Московские ворота;19 000 000\\xa0₽;https://spb.cian.ru/sale/flat/269500275/\\r\\n25;3-комн. кв., 135,78 м², 2/6 этаж;AAG;Василеостровская;42 091 800\\xa0₽;https://spb.cian.ru/sale/flat/267463420/\\r\\n26;3-комн. кв., 70,87 м², 3/14 этаж;GloraХ;Ладожская;18 099 999\\xa0₽;https://spb.cian.ru/sale/flat/262481383/\\r\\n27;БИЗНЕС кл сдача 22г Док-ты готовы;Наталья Нечаева;Московские ворота;14 500 000\\xa0₽;https://spb.cian.ru/sale/flat/270692388/\\r\\n28;Готовая 3-к с белой отделкой;Наталья Нечаева;Комендантский проспект;14 000 000\\xa0₽;https://spb.cian.ru/sale/flat/264011384/\\r\\n29;Апартаменты-студия, 24,4 м², 8/16 этаж;RBI;Московские ворота;9 000 000\\xa0₽;https://spb.cian.ru/sale/flat/267162285/\\r\\n30;Студия, 23,58 м², 11/14 этаж;GloraХ;Ладожская;8 299 999\\xa0₽;https://spb.cian.ru/sale/flat/270041525/\\r\\n31;3-комн. кв., 118,74 м², 3/12 этаж;AAG;Новочеркасская;31 808 736\\xa0₽;https://spb.cian.ru/sale/flat/267463344/\\r\\n32;Студия, 37,41 м², 4/11 этаж;e. Development;Московские ворота;13 093 500\\xa0₽;https://spb.cian.ru/sale/flat/267822917/\\r\\n33;Квартира вашей мечты!;Метры оптом;Спортивная;12 400 000\\xa0₽;https://spb.cian.ru/sale/flat/269569547/\\r\\n34;Студия, 47,9 м², 13/21 этаж;Эталон;Ладожская;9 484 930\\xa0₽;https://spb.cian.ru/sale/flat/266193694/\\r\\n35;Эркер на 5 окон;Метры оптом;Спортивная;22 855 000\\xa0₽;https://spb.cian.ru/sale/flat/269407616/\\r\\n36;Студия, 39,5 м², 4/19 этаж;Эталон;Московские ворота;10 228 672\\xa0₽;https://spb.cian.ru/sale/flat/266197091/\\r\\n37;1-комн. кв., 35,39 м², 2/14 этаж;GloraХ;Ладожская;10 599 999\\xa0₽;https://spb.cian.ru/sale/flat/262521655/\\r\\n38;Студия, 31,5 м², 13/16 этаж;Эталон;Елизаровская;8 100 000\\xa0₽;https://spb.cian.ru/sale/flat/266196267/\\r\\n39;Студия, 28,5 м², 2/12 этаж;Эталон;Московские ворота;8 640 671\\xa0₽;https://spb.cian.ru/sale/flat/266195707/\\r\\n40;Студия, 31,9 м², 2/8 этаж;RBI;Балтийская;11 900 000\\xa0₽;https://spb.cian.ru/sale/flat/268565402/\\r\\n41;Студия, 26,7 м², 18/24 этаж;RBI;Комендантский проспект;6 350 000\\xa0₽;https://spb.cian.ru/sale/flat/270279714/\\r\\n42;Студия напротив Мариинки!!;Метры оптом;Садовая;4 180 000\\xa0₽;https://spb.cian.ru/sale/flat/270175287/\\r\\n43;Студия, 24,3 м², 5/7 этаж;ПИК;Балтийская;9 477 000\\xa0₽;https://spb.cian.ru/sale/flat/270501990/\\r\\n44;Студия, 27,3 м², 2/11 этаж;Euroinvest Development;Электросила;10 510 500\\xa0₽;https://spb.cian.ru/sale/flat/267475662/\\r\\n45;Студия, 25,7 м², 1/17 этаж;Интергрупп;Звездная;5 851 890\\xa0₽;https://spb.cian.ru/sale/flat/223044521/\\r\\n46;Студия, 35 м², 6/18 этаж;Эталон;Балтийская;9 563 702\\xa0₽;https://spb.cian.ru/sale/flat/267654362/\\r\\n47;Апартаменты с ежемесячным доходом;Investa;Горьковская;3 477 760\\xa0₽;https://spb.cian.ru/sale/flat/265904524/\\r\\n48;Студия в апарт-отеле с доходом;Investa;Лиговский проспект;3 160 000\\xa0₽;https://spb.cian.ru/sale/flat/270233446/\\r\\n49;Номер в апарт-отеле 3* в центре;Investa;Садовая;4 775 120\\xa0₽;https://spb.cian.ru/sale/flat/268623103/\\r\\n50;Квартира-студия у метро;ID 56952352;Чернышевская;3 700 000\\xa0₽;https://spb.cian.ru/sale/flat/270635343/\\r\\n51;Апартаменты-студия, 22,7 м², 4/4 этаж;Investa;Сенная площадь;4 356 987\\xa0₽;https://spb.cian.ru/sale/flat/270697250/\\r\\n52;2-уровневые апартаменты в центре;Investa;Площадь Восстания;3 640 000\\xa0₽;https://spb.cian.ru/sale/flat/269630561/\\r\\n53;Апарты в туристическом центре;Investa;Чернышевская;3 700 000\\xa0₽;https://spb.cian.ru/sale/flat/268623310/\\r\\n54;Студия в апарт-отеле с доходом;Investa;Садовая;4 474 798\\xa0₽;https://spb.cian.ru/sale/flat/270027685/\\r\\n55;Доходные апартаменты в центре;Investa;Сенная площадь;4 447 757\\xa0₽;https://spb.cian.ru/sale/flat/270125925/\\r\\n56;Номер в отеле 3* в центре города;Investa;Садовая;4 925 281\\xa0₽;https://spb.cian.ru/sale/flat/265904755/\\r\\n57;Доходные апартаменты в центре;Investa;Площадь Восстания;4 500 000\\xa0₽;https://spb.cian.ru/sale/flat/269349382/\\r\\n58;Апартаменты с пассивным доходом;Investa;Лиговский проспект;4 000 000\\xa0₽;https://spb.cian.ru/sale/flat/270233239/\\r\\n59;3-комн. кв., 187,53 м², 4/7 этаж;AAG;Горный институт;69 571 661\\xa0₽;https://spb.cian.ru/sale/flat/267526687/\\r\\n60;3-комн. кв., 88 м², 4/7 этаж;ID 87576016;Электросила;15 550 000\\xa0₽;https://spb.cian.ru/sale/flat/270395248/\\r\\n61;4-комн. кв., 101,8 м², 9/19 этаж;GloraХ;Зенит;42 999 999\\xa0₽;https://spb.cian.ru/sale/flat/270048531/\\r\\n62;3-комн. кв., 92,83 м², 2/9 этаж;LEGENDA Intelligent Development;Черная речка;30 313 700\\xa0₽;https://spb.cian.ru/sale/flat/270531467/\\r\\n63;6-комн. кв., 228 м², 3/6 этаж;ЦАН - Центральное;Горьковская;24 000 000\\xa0₽;https://spb.cian.ru/sale/flat/256875651/\\r\\n64;3-комн. кв., 124,6 м², 3/8 этаж;ЦАН - Центральное;Чкаловская;37 000 000\\xa0₽;https://spb.cian.ru/sale/flat/268482714/\\r\\n65;2-комн. кв., 88,68 м², 4/12 этаж;AAG;Новочеркасская;25 255 531\\xa0₽;https://spb.cian.ru/sale/flat/267463347/\\r\\n66;2-комн. кв., 43,2 м², 1/5 этаж;ЦАН - Центральное;Купчино;6 400 000\\xa0₽;https://spb.cian.ru/sale/flat/270632252/\\r\\n67;2-комн. кв., 65,8 м², 6/8 этаж;Школа Недвижимости;Петроградская;23 500 000\\xa0₽;https://spb.cian.ru/sale/flat/268966676/\\r\\n68;2-комн. кв., 109,24 м², 5/7 этаж;AAG;Горный институт;42 550 613\\xa0₽;https://spb.cian.ru/sale/flat/267463230/\\r\\n69;2-комн. кв., 58,3 м², 4/5 этаж;ЛенРегионСтрой;Лесное(29 км);6 150 000\\xa0₽;https://spb.cian.ru/sale/flat/265117011/\\r\\n70;2-комн. кв., 77,12 м², 4/9 этаж;LEGENDA Intelligent Development;Черная речка;26 884 100\\xa0₽;https://spb.cian.ru/sale/flat/269126964/\\r\\n71;2-комн. кв., 64 м², 2/9 этаж;LEGENDA Intelligent Development;Новочеркасская;19 045 400\\xa0₽;https://spb.cian.ru/sale/flat/263707955/\\r\\n72;РЕДКАЯ 3е Ультра Сити. Ипотека 5%;Наталья Нечаева;Комендантский проспект;11 500 000\\xa0₽;https://spb.cian.ru/sale/flat/263096670/\\r\\n73;3-к c ОТДЕЛКОЙ. Лучший ЖК района.;Наталья Нечаева;Комендантский проспект;13 300 000\\xa0₽;https://spb.cian.ru/sale/flat/269773035/\\r\\n74;1-комн. кв., 47,03 м², 3/6 этаж;AAG;Василеостровская;19 065 962\\xa0₽;https://spb.cian.ru/sale/flat/267463514/\\r\\n75;3-комн. кв., 139,74 м², 4/9 этаж;AAG;Новочеркасская;39 910 023\\xa0₽;https://spb.cian.ru/sale/flat/267463363/\\r\\n76;3-комн. кв., 94,6 м², 7/9 этаж;LEGENDA Intelligent Development;Новочеркасская;31 189 700\\xa0₽;https://spb.cian.ru/sale/flat/263707702/\\r\\n77;1-комн. кв., 57,18 м², 11/12 этаж;AAG;Новочеркасская;21 041 784\\xa0₽;https://spb.cian.ru/sale/flat/269863374/\\r\\n78;1-комн. кв., 52,3 м², 5/22 этаж;Петербургская Недвижимость;Московская;12 552 000\\xa0₽;https://spb.cian.ru/sale/flat/267882345/\\r\\n79;\"Недорогая 1 кв. в \"\"ULTRA CITY\"\"\";Наталья Нечаева;Комендантский проспект;7 300 000\\xa0₽;https://spb.cian.ru/sale/flat/262682405/\\r\\n80;Дом сдан! Премиум класс;House Estate;Крестовский остров;38 750 000\\xa0₽;https://spb.cian.ru/sale/flat/268914006/\\r\\n81;3-комн. кв., 98,46 м², 1/9 этаж;Балтийская коммерция;Петроградская;28 159 560\\xa0₽;https://spb.cian.ru/sale/flat/258156108/\\r\\n82;2-комн. кв., 67,94 м², 8/9 этаж;Балтийская коммерция;Петроградская;24 526 340\\xa0₽;https://spb.cian.ru/sale/flat/258156092/\\r\\n83;2-комн. кв., 86,96 м², 8/9 этаж;AAG;Новочеркасская;32 747 266\\xa0₽;https://spb.cian.ru/sale/flat/267463376/\\r\\n84;Студия, 24,22 м², 1/13 этаж;Группа Аквилон;Комендантский проспект;5 342 327\\xa0₽;https://spb.cian.ru/sale/flat/261618919/\\r\\n85;Студия, 22,85 м², 7/12 этаж;Страна Девелопмент;Приморская;9 718 647\\xa0₽;https://spb.cian.ru/sale/flat/265959660/\\r\\n86;3-комн. кв., 68,4 м², 2/10 этаж;ID 73038306;Беговая;12 000 000\\xa0₽;https://spb.cian.ru/sale/flat/269863419/\\r\\n87;4-комн. кв., 104,63 м², 19/20 этаж;GloraХ;Зенит;32 499 999\\xa0₽;https://spb.cian.ru/sale/flat/251939105/\\r\\n88;Студия, 27,74 м², 6/8 этаж;Страна Девелопмент;Нарвская;9 924 083\\xa0₽;https://spb.cian.ru/sale/flat/267701049/\\r\\n89;Студия, 20,43 м², 8/16 этаж;РосСтройИнвест;Ленинский проспект;5 734 854\\xa0₽;https://spb.cian.ru/sale/flat/269992037/\\r\\n90;2-комн. кв., 61,65 м², 2/10 этаж;Euroinvest Development;Фрунзенская;23 427 000\\xa0₽;https://spb.cian.ru/sale/flat/267475925/\\r\\n91;Пентхаус на Московском 233 кв.м.!;ID 41291879;Московская;55 900 000\\xa0₽;https://spb.cian.ru/sale/flat/248904442/\\r\\n92;Студия, 30,08 м², 17/24 этаж;ЦДС;Обухово;5 309 431\\xa0₽;https://spb.cian.ru/sale/flat/245477880/\\r\\n93;Студия, 17 м², 1/6 этаж;ЦАН - Центральное;Электросила;3 950 000\\xa0₽;https://spb.cian.ru/sale/flat/269226392/\\r\\n94;Студия, 25,05 м², 5/13 этаж;Группа Аквилон;Горный институт;6 820 201\\xa0₽;https://spb.cian.ru/sale/flat/262987892/\\r\\n95;Студия с потолками 3.85 метров!;Метры оптом;Фрунзенская;3 849 000\\xa0₽;https://spb.cian.ru/sale/flat/270631679/\\r\\n96;Студия, 29,6 м², 11/16 этаж;ЦАН - Центральное;Улица Дыбенко;6 580 000\\xa0₽;https://spb.cian.ru/sale/flat/269445887/\\r\\n97;1-комн. кв., 64,41 м², 3/7 этаж;AAG;Горный институт;32 800 824\\xa0₽;https://spb.cian.ru/sale/flat/267463226/\\r\\n98;4-комн. кв., 148,3 м², 3/9 этаж;LEGENDA Intelligent Development;Новочеркасская;43 278 700\\xa0₽;https://spb.cian.ru/sale/flat/263707791/\\r\\n99;3-комн. кв., 68,14 м², 6/10 этаж;Euroinvest Development;Фрунзенская;27 596 700\\xa0₽;https://spb.cian.ru/sale/flat/267475926/\\r\\n100;3-комн. кв., 84,3 м², 2/4 этаж;Школа Недвижимости;Черная речка;16 499 000\\xa0₽;https://spb.cian.ru/sale/flat/267754555/\\r\\n101;Дом с Грифонами! Последняя цена!;NIKA ESTATE;Крестовский остров;140 000 000\\xa0₽;https://spb.cian.ru/sale/flat/266920946/\\r\\n102;1-комн. кв., 31,3 м², 18/25 этаж;Дриада;Пролетарская;5 630 000\\xa0₽;https://spb.cian.ru/sale/flat/270330598/\\r\\n103;Своб. планировка, 413,3 м², 5/9 этаж;ID 486432;Крестовский остров;165 000 000\\xa0₽;https://spb.cian.ru/sale/flat/259690003/\\r\\n104;3-комн. кв., 96,22 м², 1/8 этаж;РСТИ;Крестовский остров;29 431 516\\xa0₽;https://spb.cian.ru/sale/flat/268047550/\\r\\n105;4-комн. кв., 117,55 м², 6/9 этаж;Балтийская коммерция;Петроградская;42 670 650\\xa0₽;https://spb.cian.ru/sale/flat/258156422/\\r\\n106;3-комн. кв., 107,4 м², 4/9 этаж;Эталон;Крестовский остров;43 323 850\\xa0₽;https://spb.cian.ru/sale/flat/270308958/\\r\\n107;3-комн. кв., 124,37 м², 6/7 этаж;ПСК;Площадь Александра Невского;36 067 300\\xa0₽;https://spb.cian.ru/sale/flat/255490275/\\r\\n108;Студия с отдельным входом!!!;Метры оптом;Садовая;6 790 000\\xa0₽;https://spb.cian.ru/sale/flat/263572692/\\r\\n109;2-комн. кв., 118 м², 4/7 этаж;Ваш Дом;Чернышевская;42 480 000\\xa0₽;https://spb.cian.ru/sale/flat/241230509/\\r\\n110;4-комн. кв., 153 м², 5/5 этаж;Ваш Дом;Адмиралтейская;63 000 000\\xa0₽;https://spb.cian.ru/sale/flat/258038952/\\r\\n111;3-комн. кв., 82 м², 22/25 этаж;ID 11223130;Пионерская;15 380 000\\xa0₽;https://spb.cian.ru/sale/flat/270114263/\\r\\n112;Атмосферная трехкомнатная квартир;МИДОМ;Василеостровская;34 900 000\\xa0₽;https://spb.cian.ru/sale/flat/269028451/\\r\\n113;2-комн. кв., 79,1 м², 3/7 этаж;Эталон;Крестовский остров;25 950 000\\xa0₽;https://spb.cian.ru/sale/flat/266457211/\\r\\n114;Студия, 29,17 м², 12/16 этаж;ЦДС;Проспект Просвещения;5 849 882\\xa0₽;https://spb.cian.ru/sale/flat/248583651/\\r\\n115;Вход со двора-курдонёра!;Ваш Дом;Чернышевская;42 480 000\\xa0₽;https://spb.cian.ru/sale/flat/257929311/\\r\\n116;3-комн. кв., 135 м², 2/7 этаж;RBI;Чкаловская;50 961 624\\xa0₽;https://spb.cian.ru/sale/flat/250578793/\\r\\n117;Студия, 47,84 м², 12/12 этаж;Арсенал-Недвижимость;Комендантский проспект;12 916 800\\xa0₽;https://spb.cian.ru/sale/flat/251255086/\\r\\n118;Готовая студия со 2м ярусом!!!;Метры оптом;Садовая;4 650 000\\xa0₽;https://spb.cian.ru/sale/flat/270117111/\\r\\n119;3-комн. кв., 87,4 м², 5/6 этаж;ЦАН - Центральное;Беговая;12 600 000\\xa0₽;https://spb.cian.ru/sale/flat/269228808/\\r\\n120;Студия, 29,61 м², 3/12 этаж;Арсенал-Недвижимость;Комендантский проспект;7 195 230\\xa0₽;https://spb.cian.ru/sale/flat/261370911/\\r\\n121;3-комн. кв., 80,26 м², 9/12 этаж;Отделстрой;Лесная;21 500 000\\xa0₽;https://spb.cian.ru/sale/flat/265770170/\\r\\n122;Апартаменты-студия, 20,8 м², 5/14 этаж;ПСК;Кировский завод;4 672 474\\xa0₽;https://spb.cian.ru/sale/flat/270117109/\\r\\n123;Апартаменты-студия, 28,21 м², 3/29 этаж;Plaza Lotus Group;Купчино;5 810 978\\xa0₽;https://spb.cian.ru/sale/flat/270698381/\\r\\n124;Студия, 25,58 м², 2/23 этаж;РосСтройИнвест;Лесная;6 522 900\\xa0₽;https://spb.cian.ru/sale/flat/270708465/\\r\\n125;Студия, 23,6 м², 2/13 этаж;РСТИ;Беговая;4 910 221\\xa0₽;https://spb.cian.ru/sale/flat/269043289/\\r\\n126;Студия, 21,63 м², 10/13 этаж;РосСтройИнвест;Комендантский проспект;5 170 867\\xa0₽;https://spb.cian.ru/sale/flat/269630913/\\r\\n127;Студия, 22,87 м², 1/4 этаж;ЦДС;Волковская;7 435 004\\xa0₽;https://spb.cian.ru/sale/flat/208126552/\\r\\n128;3-комн. кв., 80,7 м², 11/12 этаж;Базис;Лесная;24 210 000\\xa0₽;https://spb.cian.ru/sale/flat/258524036/\\r\\n129;1-комн. кв., 45,7 м², 7/9 этаж;LEGENDA Intelligent Development;Новочеркасская;15 075 500\\xa0₽;https://spb.cian.ru/sale/flat/263707380/\\r\\n130;1-комн. кв., 48,99 м², 4/9 этаж;LEGENDA Intelligent Development;Черная речка;18 518 300\\xa0₽;https://spb.cian.ru/sale/flat/269127131/\\r\\n131;Студия, 25,07 м², 6/11 этаж;Хочу Квартиру;Электросила;8 500 000\\xa0₽;https://spb.cian.ru/sale/flat/252510364/\\r\\n132;Студия, 26,35 м², 2/25 этаж;ПСК;Шувалово;4 707 895\\xa0₽;https://spb.cian.ru/sale/flat/270050840/\\r\\n133;Апартаменты-студия, 27,12 м², 21/24 этаж;Plaza Lotus Group;Улица Дыбенко;4 668 030\\xa0₽;https://spb.cian.ru/sale/flat/262052792/\\r\\n134;под ключ с мебелью и техникой;Вероника Корбут;Беговая;16 990 000\\xa0₽;https://spb.cian.ru/sale/flat/270358042/\\r\\n135;Студия, 28,29 м², 16/18 этаж;Лидер Групп;Горный институт;7 129 080\\xa0₽;https://spb.cian.ru/sale/flat/262240994/\\r\\n136;3-комн. кв., 81,6 м², 4/10 этаж;Петербургская Недвижимость;Удельная;22 550 208\\xa0₽;https://spb.cian.ru/sale/flat/270612442/\\r\\n137;Апартаменты-студия, 18 м², 1/7 этаж;ID 36482356;Площадь Ленина;4 140 000\\xa0₽;https://spb.cian.ru/sale/flat/260610946/\\r\\n138;Апартаменты-студия, 17,8 м², 1/5 этаж;ID 36482356;Лесная;3 980 000\\xa0₽;https://spb.cian.ru/sale/flat/269627433/\\r\\n139;Апартаменты-студия, 19,49 м², 1/4 этаж;ID 21944685;Петроградская;4 485 000\\xa0₽;https://spb.cian.ru/sale/flat/263558276/\\r\\n'"
      ]
     },
     "execution_count": 216,
     "metadata": {},
     "output_type": "execute_result"
    }
   ],
   "source": [
    "header = ['russian_name', 'company', 'metro', 'price', 'link']\n",
    "\n",
    "df = pd.DataFrame(data, columns = header)\n",
    "df.to_csv(sep=';', encoding = 'utf8')"
   ]
  },
  {
   "cell_type": "code",
   "execution_count": null,
   "id": "ee12006e-a22a-466c-9de9-6dd7ca253623",
   "metadata": {},
   "outputs": [],
   "source": []
  }
 ],
 "metadata": {
  "kernelspec": {
   "display_name": "Python 3 (ipykernel)",
   "language": "python",
   "name": "python3"
  },
  "language_info": {
   "codemirror_mode": {
    "name": "ipython",
    "version": 3
   },
   "file_extension": ".py",
   "mimetype": "text/x-python",
   "name": "python",
   "nbconvert_exporter": "python",
   "pygments_lexer": "ipython3",
   "version": "3.9.7"
  }
 },
 "nbformat": 4,
 "nbformat_minor": 5
}
